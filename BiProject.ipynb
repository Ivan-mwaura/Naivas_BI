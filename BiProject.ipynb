{
 "cells": [
  {
   "cell_type": "markdown",
   "metadata": {},
   "source": [
    "STEP 6: Activity 2 – Clustering: Customer Segmentation Standardize the RFM features and apply K-Means clustering. Explanation:\n",
    "\n",
    "StandardScaler is used to normalize the RFM features.\n",
    "\n",
    "The Elbow Method helps determine the optimal number of clusters.\n",
    "\n",
    "K-Means clustering is applied and results are visualized with pair plots to see how customers are segmented."
   ]
  },
  {
   "cell_type": "code",
   "execution_count": null,
   "metadata": {
    "vscode": {
     "languageId": "plaintext"
    }
   },
   "outputs": [],
   "source": [
    "from sklearn.preprocessing import StandardScaler"
   ]
  }
 ],
 "metadata": {
  "language_info": {
   "name": "python"
  }
 },
 "nbformat": 4,
 "nbformat_minor": 2
}
